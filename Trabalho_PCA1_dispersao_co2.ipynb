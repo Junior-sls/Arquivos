{
  "nbformat": 4,
  "nbformat_minor": 0,
  "metadata": {
    "colab": {
      "provenance": [],
      "authorship_tag": "ABX9TyODSZw3FGuFWWWeGuTb72nH",
      "include_colab_link": true
    },
    "kernelspec": {
      "name": "python3",
      "display_name": "Python 3"
    },
    "language_info": {
      "name": "python"
    }
  },
  "cells": [
    {
      "cell_type": "markdown",
      "metadata": {
        "id": "view-in-github",
        "colab_type": "text"
      },
      "source": [
        "<a href=\"https://colab.research.google.com/github/Junior-sls/Arquivos/blob/main/Trabalho_PCA1_dispersao_co2.ipynb\" target=\"_parent\"><img src=\"https://colab.research.google.com/assets/colab-badge.svg\" alt=\"Open In Colab\"/></a>"
      ]
    },
    {
      "cell_type": "code",
      "execution_count": 39,
      "metadata": {
        "colab": {
          "base_uri": "https://localhost:8080/"
        },
        "id": "G7if5GbQ4_wm",
        "outputId": "e56f3359-d4b6-411a-da69-959a5a737904"
      },
      "outputs": [
        {
          "output_type": "stream",
          "name": "stdout",
          "text": [
            "Drive already mounted at /content/gdrive; to attempt to forcibly remount, call drive.mount(\"/content/gdrive\", force_remount=True).\n"
          ]
        }
      ],
      "source": [
        "import pandas as pd\n",
        "from sklearn.preprocessing import StandardScaler, OneHotEncoder\n",
        "from sklearn.decomposition import PCA\n",
        "from sklearn.compose import ColumnTransformer\n",
        "import numpy as np\n",
        "from google.colab import drive\n",
        "from google.colab import files\n",
        "drive.mount('/content/gdrive')\n",
        "caminho_dataset1 = '/content/gdrive/My Drive/Colab Notebooks/praia_grande_calc.xlsx'\n",
        "caminho_dataset2 = '/content/gdrive/My Drive/Colab Notebooks/santos_calc.xlsx'\n",
        "#Localizando os devidos data set para Santos e Praia Grande"
      ]
    },
    {
      "source": [
        "df_praia_grande = pd.read_excel(caminho_dataset1)\n",
        "df_santos = pd.read_excel(caminho_dataset2)\n",
        "#Lendo datasets individualmente"
      ],
      "cell_type": "code",
      "metadata": {
        "id": "e5HB935y8an4"
      },
      "execution_count": 40,
      "outputs": []
    },
    {
      "cell_type": "code",
      "source": [
        "df_combinado = pd.concat([df_praia_grande, df_santos], ignore_index=True)\n",
        "colunas_numericas = df_combinado.columns[1:]\n",
        "colunas_categoricas = ['Setor']\n",
        "preprocessor = ColumnTransformer(\n",
        "    transformers=[\n",
        "        ('num', StandardScaler(), colunas_numericas),\n",
        "        ('cat', OneHotEncoder(sparse_output=False, handle_unknown='ignore'), colunas_categoricas)])\n",
        "X_preparado = preprocessor.fit_transform(df_combinado)\n",
        "#Concatenando datasets, e identificando setores emissores"
      ],
      "metadata": {
        "id": "DGOW_gU4_FJZ"
      },
      "execution_count": 43,
      "outputs": []
    },
    {
      "source": [
        "pca = PCA(n_components=1)\n",
        "pca.fit(X_preparado)\n",
        "X_pca = pca.transform(X_preparado)\n",
        "\n",
        "autovalores = pca.explained_variance_\n",
        "autovetores = pca.components_\n",
        "\n",
        "indices_importantes = np.argsort(np.abs(autovetores[0]))[::-1]\n",
        "\n",
        "indices_importantes = indices_importantes[indices_importantes < len(df_combinado.columns[1:])]\n",
        "\n",
        "nomes_recursos_importantes = df_combinado.columns[1:][indices_importantes]\n",
        "\n",
        "eigen_pairs = [(np.abs(autovalores[i]), autovetores[:, i]) for i in range(len(autovalores))]\n",
        "eigen_pairs.sort(key=lambda x: x[0], reverse=True)\n",
        "\n",
        "top_eigenvalues = eigen_pairs[0][0]\n",
        "top_eigenvectors = eigen_pairs[0][1]\n",
        "\n",
        "\n",
        "print(\"\\nMaior autovalor:\")\n",
        "print(top_eigenvalues)\n",
        "print(\"\\nMaior autovetor:\")\n",
        "print(top_eigenvectors)\n",
        "\n",
        "variancia_explicada = pca.explained_variance_ratio_\n",
        "print(\"matriz: \", X_pca)\n",
        "print(\"Autovalores:\", autovalores)\n",
        "print(\"Autovetores:\", autovetores)\n",
        "print(\"Recursos mais importantes para o primeiro componente principal (escopo dos anos):\", nomes_recursos_importantes)\n",
        "print(\"Variância explicada por cada componente principal:\", variancia_explicada)\n",
        "#Aplicando PCA, como temos apenas um tipo de gás e apenas uma forma de emissão, 1 componente é o bastante."
      ],
      "cell_type": "code",
      "metadata": {
        "colab": {
          "base_uri": "https://localhost:8080/"
        },
        "id": "oktYM1OjmOGF",
        "outputId": "dfce84d9-1e36-41fc-ba90-2b0e5b51b988"
      },
      "execution_count": 44,
      "outputs": [
        {
          "output_type": "stream",
          "name": "stdout",
          "text": [
            "\n",
            "Maior autovalor:\n",
            "19.55169040112332\n",
            "\n",
            "Maior autovetor:\n",
            "[0.24037755]\n",
            "matriz:  [[-2.25366852]\n",
            " [-2.10644783]\n",
            " [-2.01260562]\n",
            " [ 2.63053227]\n",
            " [-2.2396626 ]\n",
            " [-1.98086666]\n",
            " [-2.17221831]\n",
            " [10.13493727]]\n",
            "Autovalores: [19.5516904]\n",
            "Autovetores: [[ 0.24037755  0.24044478  0.24089236  0.24043032  0.24060154  0.24133363\n",
            "   0.24162087  0.24172931  0.24172266  0.24126337  0.24134449  0.2416057\n",
            "   0.24138941  0.24087245  0.24115814  0.24121029  0.24110879 -0.02986453\n",
            "  -0.030577   -0.03283115  0.09327268]]\n",
            "Recursos mais importantes para o primeiro componente principal (escopo dos anos): Index(['2014', '2015', '2013', '2018', '2019', '2017', '2012', '2016', '2022',\n",
            "       '2021', '2023', '2009', '2020', '2011', '2008', '2010', '2007'],\n",
            "      dtype='object')\n",
            "Variância explicada por cada componente principal: [0.96381572]\n"
          ]
        }
      ]
    },
    {
      "cell_type": "code",
      "source": [
        "setor_mapping = {setor: i for i, setor in enumerate(df_combinado['Setor'].unique())}\n",
        "\n",
        "y_numeric = df_combinado['Setor'].map(setor_mapping).to_numpy()\n",
        "\n",
        "print(X_pca[:, 0].shape)\n",
        "print(y_numeric.shape)\n",
        "print(X_pca[:, 0].dtype)\n",
        "print(y_numeric.dtype)\n",
        "print(df_combinado['Setor'].unique())\n",
        "#Identificando setores"
      ],
      "metadata": {
        "colab": {
          "base_uri": "https://localhost:8080/"
        },
        "id": "caaE-1bxLyGv",
        "outputId": "9300f20f-e0b5-46d9-aaca-3076ee1cff85"
      },
      "execution_count": 45,
      "outputs": [
        {
          "output_type": "stream",
          "name": "stdout",
          "text": [
            "(8,)\n",
            "(8,)\n",
            "float64\n",
            "int64\n",
            "['Publico' 'Comercial' 'Ferroviario' 'Rodoviario']\n"
          ]
        }
      ]
    },
    {
      "source": [
        "import matplotlib.pyplot as plt\n",
        "import matplotlib.patches as mpatches\n",
        "plt.scatter(X_pca, df_combinado['Setor'])\n",
        "setor_mapping = {setor: i for i, setor in enumerate(df_combinado['Setor'].unique())}\n",
        "colors = [setor_mapping[setor] for setor in df_combinado['Setor']]\n",
        "plt.scatter(X_pca[:, 0], df_combinado['Setor'], c=colors)\n",
        "\n",
        "plt.xlabel('Componente Principal (tco2)')\n",
        "plt.ylabel('Setor')\n",
        "plt.title('Dispersão de Emissões de tCO2')\n",
        "plt.grid(True, which='major', axis='both', linestyle='--', color='gray', alpha=0.5)\n",
        "plt.show()\n",
        "print(\"O setor com maior dispersão entre as duas cidades, é o setor Rodoviário\")\n",
        "#Gráfico de dispersão"
      ],
      "cell_type": "code",
      "metadata": {
        "colab": {
          "base_uri": "https://localhost:8080/",
          "height": 490
        },
        "id": "KeFWj3FspUFH",
        "outputId": "e6f10bc3-fe4b-4e54-f0c1-e74c4af75a9a"
      },
      "execution_count": 47,
      "outputs": [
        {
          "output_type": "display_data",
          "data": {
            "text/plain": [
              "<Figure size 640x480 with 1 Axes>"
            ],
            "image/png": "[encoded data removed]"
          },
          "metadata": {}
        },
        {
          "output_type": "stream",
          "name": "stdout",
          "text": [
            "O setor com maior dispersão entre as duas cidades, é o setor Rodoviário\n"
          ]
        }
      ]
    }
  ]
}